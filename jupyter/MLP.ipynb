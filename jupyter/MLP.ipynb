{
 "cells": [
  {
   "cell_type": "code",
   "execution_count": 1,
   "metadata": {},
   "outputs": [],
   "source": [
    "import numpy as np\n",
    "import os\n",
    "import random\n",
    "from matplotlib import pyplot as plt\n",
    "\n",
    "class DataReader():\n",
    "    def __init__(self):\n",
    "        self.train_X, self.train_Y, self.test_X, self.test_Y = self.read_data()\n",
    "\n",
    "    def read_data(self):\n",
    "        filename = os.listdir(\"datasets\")[0]\n",
    "        file = open(\"datasets/\" + filename)\n",
    "\n",
    "        file.readline()\n",
    "\n",
    "        data = []\n",
    "\n",
    "        for line in file:\n",
    "            splt = line.split(\",\")\n",
    "\n",
    "            x, label = self.process_data(splt)\n",
    "\n",
    "            data.append((x, label))\n",
    "\n",
    "        random.shuffle(data)\n",
    "        \n",
    "        X = []\n",
    "        Y = []\n",
    "\n",
    "        for el in data:\n",
    "            X.append(el[0])\n",
    "            Y.append(el[1])\n",
    "\n",
    "        X = np.asarray(X)\n",
    "        Y = np.asarray(Y)\n",
    "\n",
    "        train_X = X[:int(len(X) * 0.8)]\n",
    "        train_Y = Y[:int(len(Y) * 0.8)]\n",
    "        test_X = X[int(len(X) * 0.8):]\n",
    "        test_Y = Y[int(len(Y) * 0.8):]\n",
    "\n",
    "        return train_X, train_Y, test_X, test_Y\n",
    "\n",
    "    def process_data(self, splt):\n",
    "        data = []\n",
    "        for i in range(1, len(splt)):\n",
    "            if splt[i] == \"\": splt[i] = 0\n",
    "        data = list(map(float, splt[1:-1]))\n",
    "\n",
    "        label = list(map(int, splt[-1:]))\n",
    "\n",
    "        return data, label\n"
   ]
  },
  {
   "cell_type": "code",
   "execution_count": 2,
   "metadata": {},
   "outputs": [],
   "source": [
    "import tensorflow as tf\n",
    "from tensorflow import keras\n",
    "import numpy as np\n",
    "\n",
    "\n",
    "class MLPC():\n",
    "    def init(self):\n",
    "        self.model = self.new_model()\n",
    "\n",
    "    def new_model(self,hp):\n",
    "        model = keras.Sequential()\n",
    "        model.add(keras.layers.Dense(11))\n",
    "        for i in range(hp.Int('numlayers', 2, 5)):\n",
    "            model.add(keras.layers.Dense(units=hp.Int('units' + str(i),\n",
    "                                                min_value=16,\n",
    "                                                maxvalue=180),\n",
    "                                   activation='relu'))\n",
    "            model.add(keras.layers.BatchNomaliation())\n",
    "            model.add(keras.layers.Dropout(hp.Float('dropout' + str(i), min_value=0.0, max_value=0.5, step=0.05)))\n",
    "        model.add(keras.layers.Dense(7, activation='softmax'))\n",
    "\n",
    "        hp_learning_rate = hp.Float('learning_rate', min_value=1e-6, max_value=1e-3, sampling='LOG')\n",
    "        model.compile(optimizer=keras.optimizers.Adam(learning_rate=hp_learning_rate), loss='categorical_crossentropy',\n",
    "                      metrics=['accuracy'])\n",
    "        return model\n",
    "\n",
    "    def fit(self, hp, model, *args, **kwargs):\n",
    "        return model.fit(\n",
    "            *args,\n",
    "            batch_size=hp.Int('batch_size', min_value = 16, max_value = 256, step = 16),\n",
    "            **kwargs,\n",
    "        )\n"
   ]
  },
  {
   "cell_type": "code",
   "execution_count": 6,
   "metadata": {},
   "outputs": [
    {
     "name": "stdout",
     "output_type": "stream",
     "text": [
      "\n"
     ]
    },
    {
     "ename": "AttributeError",
     "evalue": "'MLPC' object has no attribute 'history'",
     "output_type": "error",
     "traceback": [
      "\u001b[0;31m---------------------------------------------------------------------------\u001b[0m",
      "\u001b[0;31mAttributeError\u001b[0m                            Traceback (most recent call last)",
      "\u001b[1;32m/home/devmin/Desktop/source/MLP/MLP-Project/MLP.ipynb Cell 3'\u001b[0m in \u001b[0;36m<cell line: 22>\u001b[0;34m()\u001b[0m\n\u001b[1;32m     <a href='vscode-notebook-cell:/home/devmin/Desktop/source/MLP/MLP-Project/MLP.ipynb#ch0000002?line=15'>16</a>\u001b[0m \u001b[39m# history = mlp.fit(dr.train_X, dr.train_Y, epochs=EPOCHS, batch_size=512,\u001b[39;00m\n\u001b[1;32m     <a href='vscode-notebook-cell:/home/devmin/Desktop/source/MLP/MLP-Project/MLP.ipynb#ch0000002?line=16'>17</a>\u001b[0m \u001b[39m#         validation_data=(dr.test_X, dr.test_Y),\u001b[39;00m\n\u001b[1;32m     <a href='vscode-notebook-cell:/home/devmin/Desktop/source/MLP/MLP-Project/MLP.ipynb#ch0000002?line=17'>18</a>\u001b[0m \u001b[39m#         callbacks=[early_stop])\u001b[39;00m\n\u001b[1;32m     <a href='vscode-notebook-cell:/home/devmin/Desktop/source/MLP/MLP-Project/MLP.ipynb#ch0000002?line=19'>20</a>\u001b[0m \u001b[39mprint\u001b[39m()\n\u001b[0;32m---> <a href='vscode-notebook-cell:/home/devmin/Desktop/source/MLP/MLP-Project/MLP.ipynb#ch0000002?line=21'>22</a>\u001b[0m history_df \u001b[39m=\u001b[39m pd\u001b[39m.\u001b[39mDataFrame(history\u001b[39m.\u001b[39;49mhistory)\n\u001b[1;32m     <a href='vscode-notebook-cell:/home/devmin/Desktop/source/MLP/MLP-Project/MLP.ipynb#ch0000002?line=22'>23</a>\u001b[0m history_df[\u001b[39m'\u001b[39m\u001b[39mloss\u001b[39m\u001b[39m'\u001b[39m]\u001b[39m.\u001b[39mplot()\n\u001b[1;32m     <a href='vscode-notebook-cell:/home/devmin/Desktop/source/MLP/MLP-Project/MLP.ipynb#ch0000002?line=23'>24</a>\u001b[0m history_df[\u001b[39m'\u001b[39m\u001b[39mval_loss\u001b[39m\u001b[39m'\u001b[39m]\u001b[39m.\u001b[39mplot()\n",
      "\u001b[0;31mAttributeError\u001b[0m: 'MLPC' object has no attribute 'history'"
     ]
    }
   ],
   "source": [
    "from tensorflow import keras\n",
    "\n",
    "# import DataReader\n",
    "# import MLPC\n",
    "import matplotlib.pyplot as plt\n",
    "import pandas as pd\n",
    "\n",
    "EPOCHS = 200\n",
    "\n",
    "dr = DataReader()\n",
    "\n",
    "# mlp = MLPC().model\n",
    "\n",
    "early_stop = keras.callbacks.EarlyStopping(monitor='val_loss', patience=10)\n",
    "history = MLPC().fit()\n",
    "# history = mlp.fit(dr.train_X, dr.train_Y, epochs=EPOCHS, batch_size=512,\n",
    "#         validation_data=(dr.test_X, dr.test_Y),\n",
    "#         callbacks=[early_stop])\n",
    "\n",
    "print()\n",
    "\n",
    "history_df = pd.DataFrame(history.history)\n",
    "history_df['loss'].plot()\n",
    "history_df['val_loss'].plot()\n",
    "plt.legend()\n",
    "plt.show()\n",
    "\n",
    "history_df = pd.DataFrame(history.history)\n",
    "history_df['accuracy'].plot()\n",
    "history_df['val_accuracy'].plot()\n",
    "plt.legend()\n",
    "plt.show()"
   ]
  }
 ],
 "metadata": {
  "interpreter": {
   "hash": "c9377c8cc014a900ea23a8b2f1da455b68e27c2cde5e89c0c3a6712a56753f2f"
  },
  "kernelspec": {
   "display_name": "Python 3.9.12 ('MLP-Project')",
   "language": "python",
   "name": "python3"
  },
  "language_info": {
   "codemirror_mode": {
    "name": "ipython",
    "version": 3
   },
   "file_extension": ".py",
   "mimetype": "text/x-python",
   "name": "python",
   "nbconvert_exporter": "python",
   "pygments_lexer": "ipython3",
   "version": "3.9.12"
  },
  "orig_nbformat": 4
 },
 "nbformat": 4,
 "nbformat_minor": 2
}
